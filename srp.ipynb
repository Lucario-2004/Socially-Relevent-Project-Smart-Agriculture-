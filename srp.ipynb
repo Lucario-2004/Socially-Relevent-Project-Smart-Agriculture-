{
 "cells": [
  {
   "cell_type": "code",
   "execution_count": null,
   "metadata": {
    "vscode": {
     "languageId": "plaintext"
    }
   },
   "outputs": [],
   "source": [
    "!sudo pip install tensorflow opencv-python picamera2 Adafruit_DHT RPi.GPIO"
   ]
  },
  {
   "cell_type": "code",
   "execution_count": null,
   "metadata": {
    "vscode": {
     "languageId": "plaintext"
    }
   },
   "outputs": [],
   "source": [
    "import picamera2\n",
    "import picamera2.encoders\n",
    "import cv2\n",
    "import numpy as np\n",
    "import tensorflow as tf\n",
    "from tensorflow import keras\n",
    "import Adafruit_DHT\n",
    "import RPi.GPIO as GPIO\n",
    "import time"
   ]
  },
  {
   "cell_type": "code",
   "execution_count": null,
   "metadata": {
    "vscode": {
     "languageId": "plaintext"
    }
   },
   "outputs": [],
   "source": [
    "DHT_PIN = 4\n",
    "LIGHT_SENSOR_PIN = 18\n",
    "MOISTURE_SENSOR_PIN = 22\n",
    "MOTOR_RELAY_PIN = 17\n",
    "LED_PIN = 27"
   ]
  },
  {
   "cell_type": "code",
   "execution_count": null,
   "metadata": {
    "vscode": {
     "languageId": "plaintext"
    }
   },
   "outputs": [],
   "source": [
    "GPIO.setmode(GPIO.BCM)\n",
    "GPIO.setup(LIGHT_SENSOR_PIN, GPIO.IN)\n",
    "GPIO.setup(MOISTURE_SENSOR_PIN, GPIO.IN)\n",
    "GPIO.setup(MOTOR_RELAY_PIN, GPIO.OUT)\n",
    "GPIO.setup(LED_PIN, GPIO.OUT)"
   ]
  },
  {
   "cell_type": "code",
   "execution_count": null,
   "metadata": {
    "vscode": {
     "languageId": "plaintext"
    }
   },
   "outputs": [],
   "source": [
    "DHT_SENSOR = Adafruit_DHT.DHT11\n",
    "MOISTURE_THRESHOLD = 300\n",
    "LIGHT_THRESHOLD = 300\n",
    "camera = picamera2.PiCamera2()\n",
    "camera.start()"
   ]
  },
  {
   "cell_type": "code",
   "execution_count": null,
   "metadata": {
    "vscode": {
     "languageId": "plaintext"
    }
   },
   "outputs": [],
   "source": [
    "def create_model():\n",
    "    model = keras.Sequential([\n",
    "        keras.layers.Conv2D(32, (3, 3), activation='relu', input_shape=(64, 64, 3)),\n",
    "        keras.layers.MaxPooling2D((2, 2)),\n",
    "        keras.layers.Conv2D(64, (3, 3), activation='relu'),\n",
    "        keras.layers.MaxPooling2D((2, 2)),\n",
    "        keras.layers.Conv2D(128, (3, 3), activation='relu'),\n",
    "        keras.layers.MaxPooling2D((2, 2)),\n",
    "        keras.layers.Flatten(),\n",
    "        keras.layers.Dense(128, activation='relu'),\n",
    "        keras.layers.Dense(3, activation='softmax')\n",
    "    ])\n",
    "    model.compile(optimizer='adam', loss='sparse_categorical_crossentropy', metrics=['accuracy'])\n",
    "    return model"
   ]
  },
  {
   "cell_type": "code",
   "execution_count": null,
   "metadata": {
    "vscode": {
     "languageId": "plaintext"
    }
   },
   "outputs": [],
   "source": [
    "def train_model(model, dataset, labels):\n",
    "    model.fit(dataset, labels, epochs=10)\n",
    "    model.save('crop_model.h5')"
   ]
  },
  {
   "cell_type": "code",
   "execution_count": null,
   "metadata": {
    "vscode": {
     "languageId": "plaintext"
    }
   },
   "outputs": [],
   "source": [
    "model = create_model()\n",
    "try:\n",
    "    model.load_weights('crop_model.h5')\n",
    "except:\n",
    "    print(\"Model not trained yet. Please train the model with a dataset.\")\n"
   ]
  },
  {
   "cell_type": "code",
   "execution_count": null,
   "metadata": {
    "vscode": {
     "languageId": "plaintext"
    }
   },
   "outputs": [],
   "source": [
    "def identify_crop(image):\n",
    "    image = cv2.resize(image, (64, 64))\n",
    "    image = np.expand_dims(image, axis=0)\n",
    "    predictions = model.predict(image)\n",
    "    crop_id = np.argmax(predictions)\n",
    "    return crop_id "
   ]
  },
  {
   "cell_type": "code",
   "execution_count": null,
   "metadata": {
    "vscode": {
     "languageId": "plaintext"
    }
   },
   "outputs": [],
   "source": [
    "try:\n",
    "    while True:\n",
    "        camera.capture('crop_image.jpg')\n",
    "        image = cv2.imread('crop_image.jpg')\n",
    "        crop_id = identify_crop(image)\n",
    "        print(f'Identified crop ID: {crop_id}')\n",
    "        humidity, temperature = Adafruit_DHT.read(DHT_SENSOR, DHT_PIN)\n",
    "        light_intensity = GPIO.input(LIGHT_SENSOR_PIN)\n",
    "        moisture_level = GPIO.input(MOISTURE_SENSOR_PIN)\n",
    "        print(f'Temperature: {temperature}C Humidity: {humidity}%')\n",
    "        print(f'Light Intensity: {light_intensity}')\n",
    "        print(f'Moisture Level: {moisture_level}')\n",
    "        if moisture_level < MOISTURE_THRESHOLD:\n",
    "            GPIO.output(MOTOR_RELAY_PIN, GPIO.HIGH)\n",
    "            print('Motor Pump ON')\n",
    "        else:\n",
    "            GPIO.output(MOTOR_RELAY_PIN, GPIO.LOW)\n",
    "            print('Motor Pump OFF')\n",
    "        if light_intensity < LIGHT_THRESHOLD:\n",
    "            GPIO.output(LED_PIN, GPIO.HIGH)\n",
    "            print('LED ON')\n",
    "        else:\n",
    "            GPIO.output(LED_PIN, GPIO.LOW)\n",
    "            print('LED OFF')\n",
    "        time.sleep(2)\n",
    "\n",
    "except KeyboardInterrupt:\n",
    "    print('Exiting...')"
   ]
  },
  {
   "cell_type": "code",
   "execution_count": null,
   "metadata": {
    "vscode": {
     "languageId": "plaintext"
    }
   },
   "outputs": [],
   "source": [
    "finally:\n",
    "    GPIO.cleanup()\n",
    "    camera.stop()"
   ]
  }
 ],
 "metadata": {
  "language_info": {
   "name": "python"
  }
 },
 "nbformat": 4,
 "nbformat_minor": 2
}
